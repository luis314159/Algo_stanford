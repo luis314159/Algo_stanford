{
  "nbformat": 4,
  "nbformat_minor": 0,
  "metadata": {
    "colab": {
      "name": "Filtro_pasa_altas.ipynb",
      "provenance": [],
      "collapsed_sections": [],
      "mount_file_id": "1jTpMSj7CWKwI0dtyFJRexTduGRxqe4VU",
      "authorship_tag": "ABX9TyN4A9hNw27A0LfEPC5ira0l",
      "include_colab_link": true
    },
    "kernelspec": {
      "name": "python3",
      "display_name": "Python 3"
    },
    "language_info": {
      "name": "python"
    }
  },
  "cells": [
    {
      "cell_type": "markdown",
      "metadata": {
        "id": "view-in-github",
        "colab_type": "text"
      },
      "source": [
        "<a href=\"https://colab.research.google.com/github/luis314159/Algo_stanford/blob/master/Filtro_pasa_altas.ipynb\" target=\"_parent\"><img src=\"https://colab.research.google.com/assets/colab-badge.svg\" alt=\"Open In Colab\"/></a>"
      ]
    },
    {
      "cell_type": "markdown",
      "source": [
        "#**<center>Universidad Autónoma de Chihuahua**\n",
        "\n",
        "<div align= \"center\">\n",
        "<img src=\"https://uach.mx/assets/media/snippet/62/escudo-web-header-black.svg\" width=\"350\" height=\"350\" />\n",
        "\n",
        "</div>\n",
        "<div align =\"center\">\n",
        "<img src=\"https://cimav.edu.mx/wp-content/uploads/2017/05/ingenieria-uach.png\" width=\"200\" height=\"200\" />\n",
        "</div>\n",
        "\n",
        "##<center>Maestría en ingeniería en computación \n",
        "##<center>Procesamiento de señales\n",
        "##<center>Trabajo: Filtro pasa altas  \n",
        "###<center>Catedrático: Dr. Alain Manzo Martínez \n",
        "###<center>Estudiante:Ing. Luis Ángel Almazán López</center>\n",
        "<!-- badges: start -->\n",
        "[![@luis3.14159](https://img.shields.io/badge/@luis314159-gitHub-darkred?&logoColor=white)](https://github.com/luis314159/) \n",
        "[![Platzi](https://img.shields.io/badge/Platzi_count-luisangelalmaznlpez-green&logoColor=white)](https://platzi.com/p/luisangelalmaznlpez/)\n",
        "![Email](https://img.shields.io/badge/email-p364977@uach.mx-darkblue?&logoColor=white)\n",
        "<!-- badges: end -->"
      ],
      "metadata": {
        "id": "vZB9_KX_rCMJ"
      }
    },
    {
      "cell_type": "markdown",
      "source": [
        "#Tabla de contenido.\n",
        "*    Introducción.\n",
        "*    Ecuación del filtro pasa altas.\n",
        "\n",
        "  *      Ecuación de diferencias finitas finitas.\n",
        "  *      Función de Transferencia $H(s)$ usando Transformada de Laplace  y el teorema de diferenciación real.\n",
        "  *      Función de Transferencia $H(z)$ usando transformada $Z$ y el teorema de corrimiento.\n",
        "  *     Respuesta del filtro pasa altas al escalón unitario\n",
        "\n",
        "*    Código\n",
        "  *     Librerías \n",
        "  *     Modelo de filtro pasa altas \n",
        "  *     Modelo discreto de filtro pasa altas \n",
        "  *     Respuesta al escalón unitario\n",
        "  *     Función de transferencia $H(z)$\n",
        "*Aplicación del filtro pasa altas \n",
        "\n",
        "  \n",
        "\n",
        "\n",
        "\n"
      ],
      "metadata": {
        "id": "PxG1EDwFtp4Z"
      }
    },
    {
      "cell_type": "markdown",
      "source": [
        "#Introducción\n",
        "En este trabajo tratara principalmente sobre el **filtro pasa altas**\n",
        "se realiazaran varias demostraciones de las formulas que se utilizaran para realizar ejemplos con código en python para realizar"
      ],
      "metadata": {
        "id": "c9fZa9_yxWV7"
      }
    },
    {
      "cell_type": "markdown",
      "source": [
        "#Filtro pasa altas \n",
        "\n",
        "A continuación se presenta un diagrama del filtro pasa altas \n",
        "<center>\n",
        "<img src=\" https://upload.wikimedia.org/wikipedia/commons/thumb/f/fe/High_pass_filter.svg/440px-High_pass_filter.svg.png\" width=\"200\" height=\"120\" />\n",
        "</center>\n",
        "\n",
        "Véase que el voltaje en el capacitor, es decir $V_C$ , se puede calcula por medio de un lazo cerrado de la siguiente manera:\n",
        "<center>\n",
        "$V_{in}+V_C=V_{out}$\n",
        "\n",
        "$V_C=V_{out}-V_{in}$\n",
        "</center>\n",
        "\n",
        "Donde :\n",
        "<center>\n",
        "$V_{out}=IR$\n",
        "</center>\n",
        "\n",
        "De la ecuación diferencial del capacitor se obtiene:\n",
        "\n",
        "<center>\n",
        "$I_C=C\\dfrac{dV_C}{dt}=C\\dfrac{dV_{out} - dV_{in}}{dt}$\n",
        "</center>\n",
        "\n",
        "\n",
        "Como $I_C =I$\n",
        "<center>\n",
        "$V_{out}=RC\\dfrac{dV_{out} - dV_{in}}{dt}$\n",
        "</center>\n",
        "\n",
        "\n",
        "Si se cambia $V_{out}$ por $y(t)$ y $V_{in}$ por $x(t)$ tenemos que:\n",
        "\n",
        "<center>\n",
        "$ \\boxed{RCx^\\prime(t)=RCy^\\prime(t)+y(t)}$ \n",
        "</center>\n",
        "Donde:\n",
        "\n",
        " $R$ es el valor de la resistencia en $Ω (ohm)$ \n",
        "\n",
        " $C$ es el valor del capacitor en $F (farad)$\n",
        "\n",
        "<center>\n",
        "<img src=\"https://encrypted-tbn0.gstatic.com/images?q=tbn:ANd9GcSaQ5Qb0ImjUJNSQ53WxB_lFDfFqSIZ3-4hlJlVwHRY88lRoNvXkxfRMwR10dM1wZ1LbM0&usqp=CAU\" width=\"400\" height=\"400\" />\n",
        "</center>\n",
        "\n",
        "El filtro tendra una frecuencia de corte $fc=\\dfrac{1}{2πRC}$\n",
        "\n",
        "\n",
        "\n",
        "\n"
      ],
      "metadata": {
        "id": "iaBwGKHkrLsf"
      }
    },
    {
      "cell_type": "markdown",
      "source": [
        "## Ecuación de diferencias finitas\n",
        "\n",
        "\n",
        "Se tiene que:\n",
        "\n",
        "<center>\n",
        "\n",
        "$RCx^\\prime(t)=RCy^\\prime(t)+y(t)$\n",
        "\n",
        "\n",
        "</center>\n",
        "Aplicando diferencias finitas:\n",
        "\n",
        "<center>\n",
        "$RC\\dfrac{X[K]-X[K-1]}{t_s}=RC\\dfrac{Y[K]-Y[K-1]}{t_s}+Y[K]$\n",
        "\n",
        "\n",
        "$Y[K](t_s+RC)=RC(X[K]-X[K-1]+Y[K-1])$\n",
        "\n",
        "\n",
        "$\\boxed{Y[K]=RC\\dfrac{X[K]-X[K-1]+Y[K-1]}{t_s+RC}}$\n",
        "</center>"
      ],
      "metadata": {
        "id": "JarD7-pxJG9D"
      }
    },
    {
      "cell_type": "markdown",
      "source": [
        "##Función de Transferencia $H(s)$ usando Transformada de Laplace y el teorema de diferenciación real.\n",
        "\n",
        "Transformada de Laplace:\n",
        "\n",
        "<center>\n",
        "$X(s)=\\mathscr{L}\\{x(t)\\}=\\int_{0}^{∞}x(t)e^{-st}\\,dt$\n",
        "</center>\n",
        "\n",
        "Teorema de diferenciación real:\n",
        "<center>\n",
        "$\\mathscr{L}\\{\\dfrac{d^nx(t)}{dt^n}\\}=s^nX(s)-s^{n-1}x(0)-s^{n-2}x^\\prime(0).....-sx^{n-2}(0)-x^{n-1}(0)$\n",
        "\n",
        "</center>\n",
        "Para la ecucación:\n",
        "<center>\n",
        "$RCx^\\prime(t)=RCy^\\prime(t)+y(t)$\n",
        "</center>\n",
        "\n",
        "En el dominio de $s$:\n",
        "<center>\n",
        "$RC(sX(s)-\\underbrace{x(0)}_{=0})=RC(sY(s)-\\underbrace{Y(0)}_{=0})+Y(s)$\n",
        "\n",
        "$sRSX(s)=RCY(s)+Y(s)$\n",
        "\n",
        "$Y(s)=\\dfrac{sRCX(s)}{sRC+1}$\n",
        "\n",
        "$\\boxed{H(s)=\\dfrac{Y(s)}{X(s)}=\\dfrac{sRC}{sRC+1}}$\n",
        "\n",
        "\n",
        "$\\boxed{H(s)=\\dfrac{Y(s)}{X(s)}=\\dfrac{s}{s+1/RC}}$\n",
        "</center>\n",
        "\n",
        "\n",
        "\n",
        "\n",
        "\n",
        "\n",
        "\n"
      ],
      "metadata": {
        "id": "Tw_2lXG8L-jG"
      }
    },
    {
      "cell_type": "markdown",
      "source": [
        "##Función de Transferencia $H(z)$ usando transformada $Z$ y el teorema de corrimiento.\n",
        "Transformada Z:\n",
        "\n",
        "<center>\n",
        "\n",
        "$X(z) = \\mathscr{Z}\\{x[k]\\} = \\sum_{n=-\n",
        "\\infty}^{+\\infty} x[k] z^{-k} \\ $\n",
        "\n",
        "</center>\n",
        "\n",
        "Teorema de corrimiento:\n",
        "\n",
        "<center>\n",
        "\n",
        "$X(z) = \\mathscr{Z}\\{x[k-n]\\} = z^{-n}X(z) $\n",
        "\n",
        "</center>\n",
        "De la ecuación de diferencias finita obtenidas anteriormente:\n",
        "<center>\n",
        "$Y[K]=RC\\dfrac{X[K]-X[K-1]+Y[K-1]}{t_s+RC}$\n",
        "</center>\n",
        "\n",
        "En el dominio de Z:\n",
        "<center>\n",
        "\n",
        "$Y(z)=RC\\dfrac{X(z)-Z^{-1}X(z)+Z^{-1}Y(z)}{t_s+RC}$\n",
        "\n",
        "$Y(z)=\\dfrac{RC}{t_s+RC}(X(z)(1-z^{-1})+z^{-1}Y(z))$\n",
        "\n",
        "$a=\\dfrac{RC}{t_s+RC}$\n",
        "\n",
        "\n",
        "$Y(z)=a(1-z^{-1})X(z)+az^{-1}Y(z)$\n",
        "\n",
        "$Y(z)(1-az^{-1})=a(1-z^{-1})X(z)$\n",
        "\n",
        "$\\boxed{H(z)=\\dfrac{Y(z)}{X(z)}=\\dfrac{a(1-z^{-1})}{1-az^{-1}}}$\n",
        "\n",
        "$\\boxed{H(z)=\\dfrac{a(z-1)}{z-a}}$\n",
        "\n",
        "</center>\n",
        "\n",
        "\n",
        "\n",
        "\n",
        "\n",
        "\n",
        "\n",
        "\n"
      ],
      "metadata": {
        "id": "VbL3DtXw6iCf"
      }
    },
    {
      "cell_type": "markdown",
      "source": [
        "##Respuesta del filtro pasa altas al escalón unitario\n",
        "\n",
        "Escalón unitario en el dominio de $z$:\n",
        "<center>\n",
        "\n",
        "$X(z)=\\dfrac{z}{z-1}$\n",
        "\n",
        "\n",
        "\n",
        "$H(z)=\\dfrac{Y(z)}{X(z)}=\\dfrac{a(z-1)}{z-a}$\n",
        "\n",
        "$Y(z)=H(z)X(z)=\\dfrac{a(z-1)}{z-a}\\dfrac{z}{(z-1)}$\n",
        "\n",
        "$=\\dfrac{az}{z-a}$\n",
        "\n",
        "$\\boxed{Y[k]=a^{k+1},k>=0}$\n",
        "\n"
      ],
      "metadata": {
        "id": "pAKVEtdostWN"
      }
    },
    {
      "cell_type": "markdown",
      "source": [
        "#Código"
      ],
      "metadata": {
        "id": "xLsyUrE2weFa"
      }
    },
    {
      "cell_type": "markdown",
      "source": [
        "##Librerías "
      ],
      "metadata": {
        "id": "PYmUuNl8w35N"
      }
    },
    {
      "cell_type": "code",
      "source": [
        "from scipy import  signal\n",
        "import numpy as np\n",
        "import matplotlib.pyplot as plt"
      ],
      "metadata": {
        "id": "nm1AOvMowugB"
      },
      "execution_count": null,
      "outputs": []
    },
    {
      "cell_type": "markdown",
      "source": [
        "##Modelo continuo del filtro pasa altas \n",
        "\n",
        "$\\boxed{H(s)=\\dfrac{s}{s+1/RC}}$\n"
      ],
      "metadata": {
        "id": "Hbq7Zlk-wxpf"
      }
    },
    {
      "cell_type": "code",
      "source": [
        "#frecuencia de corte en Hz\n",
        "#fc =1/(2*pi*C*R)\n",
        "fc =1000\n",
        "#Valor de la capacitancia \n",
        "C=1*10**(-6)\n",
        "R=1/(2*np.pi*C*fc)\n",
        "#Numerador de la función de transferencia H(s)=s/(s+1/RC)\n",
        "num=[1,0]\n",
        "den=[1,1/(R*C)]\n",
        "#Función de transferecnia \n",
        "Hs=signal.lti(num,den)\n",
        "#Respuesta al escalón \n",
        "t, yt=signal.step2(Hs)\n",
        "#Grafico\n",
        "plt.figure(1)\n",
        "plt.plot(t,yt)\n",
        "plt.title(\"Respuesta al escalón unitario\")\n",
        "plt.xlabel(\"tiempo (seg)\")\n",
        "plt.show()"
      ],
      "metadata": {
        "colab": {
          "base_uri": "https://localhost:8080/",
          "height": 295
        },
        "id": "ujuIRHucw1CV",
        "outputId": "cd3d4ebe-69a9-461c-ef61-49b2894d9f2d"
      },
      "execution_count": null,
      "outputs": [
        {
          "output_type": "display_data",
          "data": {
            "text/plain": [
              "<Figure size 432x288 with 1 Axes>"
            ],
            "image/png": "[encoded data removed]"
          },
          "metadata": {
            "needs_background": "light"
          }
        }
      ]
    },
    {
      "cell_type": "markdown",
      "source": [
        "##Modelo discreto del filtro pasa altas \n",
        "\n",
        "\n",
        "\n",
        "$\\boxed{Y[K]=RC\\dfrac{X[K]-X[K-1]+Y[K-1]}{t_s+RC}}$\n"
      ],
      "metadata": {
        "id": "6_mgD-FQ3CGx"
      }
    },
    {
      "cell_type": "code",
      "source": [
        "# =============================================================================\n",
        "#                       MODELO DISCRETO (FILTRO PASA ALTAS)\n",
        "# =============================================================================\n",
        "#frecuencia de muestreo en Hz\n",
        "fs=100000\n",
        "#periodo de muestreo\n",
        "ts=1/fs \n",
        "\n",
        "#Tamaño del arreglo de t\n",
        "T=len(t)\n",
        "\n",
        "#Obtiene el tiempo maximo \n",
        "tmax = t[T-1]\n",
        "\n",
        "#Vector de tiempos \n",
        "tm=np.arange(0,tmax,ts)\n",
        "\n",
        "#Ecuación de diferecnias \n",
        "#vo[k]= a[vi[k]-vi[k-1]+vo[k-1]]\n",
        "\n",
        "#Constantes de la ecuación de diferencia \n",
        "a=R*C/(ts+R*C)\n",
        "\n",
        "#valor maximo para K\n",
        "K=len(tm)\n",
        "\n",
        "#Entrada escalón uitario\n",
        "vi_k=1\n",
        "#Evaluar ecuación de diferencias\n",
        "vo_k = np.zeros(K) \n",
        "#valores anteriores se tomaran como 0\n",
        "vo_k_1 = 0\n",
        "vi_k_1=0\n",
        "for k in range(0,K):\n",
        "    vo_k[k] = a*(vi_k -vi_k_1+vo_k_1)\n",
        "    vi_k_1 = vi_k\n",
        "    vo_k_1 = vo_k[k]\n",
        "\n",
        "#Grafico \n",
        "plt.plot(tm,vo_k,'r.',label=\"Modelo discreto\")\n",
        "plt.plot(t,yt,label =\"Modelo continuo\")\n",
        "plt.title(\"Respuesta al escalón unitario\")\n",
        "plt.xlabel(\"tiempo (seg)\")\n",
        "leg=plt.legend(loc=\"upper right\")\n",
        "leg.get_frame().set_facecolor(\"#fafafa\")\n",
        "plt.show()"
      ],
      "metadata": {
        "colab": {
          "base_uri": "https://localhost:8080/",
          "height": 295
        },
        "id": "x1kya-wh2_1M",
        "outputId": "3fe9be67-aa60-471f-a3d7-525b258db46d"
      },
      "execution_count": null,
      "outputs": [
        {
          "output_type": "display_data",
          "data": {
            "text/plain": [
              "<Figure size 432x288 with 1 Axes>"
            ],
            "image/png": "[encoded data removed]"
          },
          "metadata": {
            "needs_background": "light"
          }
        }
      ]
    },
    {
      "cell_type": "markdown",
      "source": [
        "##Respuesta al escaclón unitario\n",
        "\n",
        "Se demostró:\n",
        "\n",
        "$\\boxed{Y[k]=a^{k+1},k>=0}$\n"
      ],
      "metadata": {
        "id": "b0DLjo4RXUQD"
      }
    },
    {
      "cell_type": "code",
      "source": [
        "# =============================================================================\n",
        "#                   RESPUESTA AL ESCALÓN UNITARIO \n",
        "# =============================================================================\n",
        "#Y[k]=a^(k+1)\n",
        "\n",
        "uk=1\n",
        "#Entrada al sistema \n",
        "yk=np.zeros(K)\n",
        "for k in range(0,K):\n",
        "    yk[k] = a**(k+1)\n",
        "\n",
        "#Gráfico \n",
        "plt.figure(2)\n",
        "plt.plot(t,yt,label=\"Modelo continuo\")\n",
        "plt.plot(tm,yk,\"k\",label=\"Y[k]\")\n",
        "plt.title(\"Respuesta al escalón unitario\")\n",
        "plt.xlabel(\"tiempo (seg)\")\n",
        "leg=plt.legend(loc=\"upper right\")\n",
        "leg.get_frame().set_facecolor(\"#fafafa\")\n",
        "plt.show()"
      ],
      "metadata": {
        "colab": {
          "base_uri": "https://localhost:8080/",
          "height": 295
        },
        "id": "SSVj6pVLXaW-",
        "outputId": "8cda05e3-2684-43c2-a8a8-1aa2597b05c3"
      },
      "execution_count": null,
      "outputs": [
        {
          "output_type": "display_data",
          "data": {
            "text/plain": [
              "<Figure size 432x288 with 1 Axes>"
            ],
            "image/png": "[encoded data removed]"
          },
          "metadata": {
            "needs_background": "light"
          }
        }
      ]
    },
    {
      "cell_type": "markdown",
      "source": [
        "##Función de transferencia $H(z)$\n",
        "\n",
        "$\\boxed{H(z)=\\dfrac{a(z-1)}{z-a}}$\n"
      ],
      "metadata": {
        "id": "No8C02qdUQ5V"
      }
    },
    {
      "cell_type": "code",
      "source": [
        "# =============================================================================\n",
        "#                   USANDO FUNCIÓN DE TRANSFERENCIA H(z)\n",
        "# =============================================================================\n",
        "#Función de transferencia H(z)=a(z-1)/(z-a)\n",
        "numz=[a,-a]\n",
        "denz=[1,-a]\n",
        "Hz=signal.dlti(numz,denz,dt=ts)\n",
        "#Respuesta al escalón unitario \n",
        "kts, ykts = signal.dstep(Hz)\n",
        "\n",
        "#Gráfico\n",
        "plt.figure(3)\n",
        "plt.plot(t,yt, label =\"Modelo continuo\")\n",
        "plt.step(kts,np.squeeze(ykts),label=\"Step H(z)\")\n",
        "plt.title(\"Respuesta al escalón unitario\")\n",
        "plt.xlabel(\"tiempo (seg)\")\n",
        "leg=plt.legend(loc=\"upper right\")\n",
        "leg.get_frame().set_facecolor(\"#fafafa\")\n",
        "plt.show()"
      ],
      "metadata": {
        "id": "zJUluAAcUaG9",
        "colab": {
          "base_uri": "https://localhost:8080/",
          "height": 295
        },
        "outputId": "18305139-e407-4bb2-d09b-ed94b382bef9"
      },
      "execution_count": null,
      "outputs": [
        {
          "output_type": "display_data",
          "data": {
            "text/plain": [
              "<Figure size 432x288 with 1 Axes>"
            ],
            "image/png": "[encoded data removed]"
          },
          "metadata": {
            "needs_background": "light"
          }
        }
      ]
    },
    {
      "cell_type": "markdown",
      "source": [
        "#Aplicación del filto pasa altas "
      ],
      "metadata": {
        "id": "B00TNstCWnpK"
      }
    },
    {
      "cell_type": "code",
      "source": [
        "!sudo apt-get install libportaudio2\n",
        "!pip install sounddevice\n",
        "!sudo apt-get install libasound-dev"
      ],
      "metadata": {
        "id": "JUCCaQ7HuWua",
        "colab": {
          "base_uri": "https://localhost:8080/"
        },
        "outputId": "c3798c06-9bcb-409b-de6d-98b54d234be3"
      },
      "execution_count": null,
      "outputs": [
        {
          "output_type": "stream",
          "name": "stdout",
          "text": [
            "Reading package lists... Done\n",
            "Building dependency tree       \n",
            "Reading state information... Done\n",
            "libportaudio2 is already the newest version (19.6.0-1).\n",
            "0 upgraded, 0 newly installed, 0 to remove and 39 not upgraded.\n",
            "Requirement already satisfied: sounddevice in /usr/local/lib/python3.7/dist-packages (0.4.4)\n",
            "Requirement already satisfied: CFFI>=1.0 in /usr/local/lib/python3.7/dist-packages (from sounddevice) (1.15.0)\n",
            "Requirement already satisfied: pycparser in /usr/local/lib/python3.7/dist-packages (from CFFI>=1.0->sounddevice) (2.21)\n",
            "Reading package lists... Done\n",
            "Building dependency tree       \n",
            "Reading state information... Done\n",
            "Note, selecting 'libasound2-dev' instead of 'libasound-dev'\n",
            "libasound2-dev is already the newest version (1.1.3-5ubuntu0.6).\n",
            "0 upgraded, 0 newly installed, 0 to remove and 39 not upgraded.\n"
          ]
        }
      ]
    },
    {
      "cell_type": "code",
      "source": [
        "# =============================================================================\n",
        "#                           FILTRO PASA ALTAS                                                                        \n",
        "# =============================================================================\n",
        "from google.colab import drive\n",
        "drive.mount('/content/drive')\n",
        "import numpy as np\n",
        "import matplotlib.pyplot as plt \n",
        "import scipy.io.wavfile as rd \n",
        "import sounddevice as sd \n",
        "\n",
        "# =============================================================================\n",
        "#   \t           PRUEBA DE FILTRO PASA ALTAS \n",
        "#                       CON ARCHIVO DE AUDIO\n",
        "# =============================================================================\n",
        "\n",
        "\n",
        "#Abrir el archivo de audio \n",
        "fs, audio = rd.read(\"/content/drive/MyDrive/procesamiento /song.wav\")\n",
        "#Separación de canal izquierdo y derecho \n",
        "canal_izq = audio[:,0]\n",
        "canal_der = audio[:,1]\n",
        "#perido de muestreo \n",
        "ts = 1/fs\n",
        "#frecuencia de corte \n",
        "fc = 1000\n",
        "#valor del capacitor \n",
        "C= 1*10**-6\n",
        "#Valor de la resitencia \n",
        "R= 1/(2*np.pi*C*fc)\n",
        "#Valor de la constante del filtro \n",
        "a=R*C/(ts+R*C)\n",
        "#Determinar el número de muestras \n",
        "K= len(canal_izq)\n",
        "#Inicializando vectores de salida para canal izq y derecho\n",
        "canal_izq_filt= np.zeros(K)\n",
        "canal_der_filt= np.zeros(K)\n",
        "\n",
        "#Inicializamos vectores de diferencias de filtro pasa bajas\n",
        "\n",
        "yk_1_izq=0\n",
        "yk_1_der=0\n",
        "\n",
        "for k in range(0,K):\n",
        "    canal_izq_filt[k]=a*(canal_izq[k]-canal_izq[k-1]+yk_1_izq)\n",
        "    yk_1_izq = canal_izq_filt[k]\n",
        "    \n",
        "    canal_der_filt[k]=a*(canal_der[k]-canal_der[k-1]+yk_1_der)\n",
        "    yk_1_der = canal_der_filt[k]\n",
        "\n",
        "#Factor de ganancia de [0,1]\n",
        "gain=0.3\n",
        "#para reproducir señal de audio en bocinas se requiere ponera\n",
        "#señal en rango [-1,1]\n",
        "canal_izq_filt = gain*(canal_izq/np.max(canal_izq_filt))\n",
        "canal_der_filt = gain*(canal_der/np.max(canal_der_filt))\n",
        "#Une ambos canales filtrados\n",
        "audio_filtrado = np.zeros(( K,2)) \n",
        "audio_filtrado[:,0] = canal_izq_filt\n",
        "audio_filtrado[:,1]= canal_der_filt\n",
        "\n",
        "#Gráfico \n",
        "plt.figure(1)\n",
        "plt.subplot(4,1,1)\n",
        "plt.plot(canal_izq)\n",
        "plt.subplot(4,1,2)\n",
        "plt.plot(canal_der)\n",
        "plt.subplot(4,1,3)\n",
        "plt.plot(canal_izq_filt)\n",
        "plt.subplot(4,1,4)\n",
        "plt.plot(canal_der_filt)\n",
        "\n",
        "#Reproduce señal de audio\n",
        "#Debido a las limitaciones de google colab no se podra reproducir el audio\n",
        "\"\"\"sd.play(audio,fs)\n",
        "sd.wait()\n",
        "sd.play(audio_filtrado,fs)\"\"\"\n",
        "\n"
      ],
      "metadata": {
        "colab": {
          "base_uri": "https://localhost:8080/",
          "height": 301
        },
        "id": "1Fr8inkGsASC",
        "outputId": "f662eb45-e52b-4c24-bb19-56c8d654d248"
      },
      "execution_count": null,
      "outputs": [
        {
          "output_type": "stream",
          "name": "stdout",
          "text": [
            "Drive already mounted at /content/drive; to attempt to forcibly remount, call drive.mount(\"/content/drive\", force_remount=True).\n"
          ]
        },
        {
          "output_type": "execute_result",
          "data": {
            "text/plain": [
              "'sd.play(audio,fs)\\nsd.wait()\\nsd.play(audio_filtrado,fs)'"
            ],
            "application/vnd.google.colaboratory.intrinsic+json": {
              "type": "string"
            }
          },
          "metadata": {},
          "execution_count": 25
        },
        {
          "output_type": "display_data",
          "data": {
            "text/plain": [
              "<Figure size 432x288 with 4 Axes>"
            ],
            "image/png": "[encoded data removed]"
          },
          "metadata": {
            "needs_background": "light"
          }
        }
      ]
    }
  ]
}