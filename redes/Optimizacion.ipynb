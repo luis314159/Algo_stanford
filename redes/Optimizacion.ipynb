{
  "nbformat": 4,
  "nbformat_minor": 0,
  "metadata": {
    "colab": {
      "provenance": [],
      "authorship_tag": "ABX9TyMhabzltZjcIoa595Sfzt1V",
      "include_colab_link": true
    },
    "kernelspec": {
      "name": "python3",
      "display_name": "Python 3"
    },
    "language_info": {
      "name": "python"
    }
  },
  "cells": [
    {
      "cell_type": "markdown",
      "metadata": {
        "id": "view-in-github",
        "colab_type": "text"
      },
      "source": [
        "<a href=\"https://colab.research.google.com/github/luis314159/Algo_stanford/blob/master/redes/Optimizacion.ipynb\" target=\"_parent\"><img src=\"https://colab.research.google.com/assets/colab-badge.svg\" alt=\"Open In Colab\"/></a>"
      ]
    },
    {
      "cell_type": "markdown",
      "source": [
        "#**<center>Universidad Autónoma de Chihuahua**\n",
        "\n",
        "<div align= \"center\">\n",
        "<img src=\"https://uach.mx/assets/media/snippet/62/escudo-web-header-black.svg\" width=\"350\" height=\"350\" />\n",
        "\n",
        "</div>\n",
        "<div align =\"center\">\n",
        "<img src=\"https://cimav.edu.mx/wp-content/uploads/2017/05/ingenieria-uach.png\" width=\"200\" height=\"200\" />\n",
        "</div>\n",
        "\n",
        "##<center>Maestría en Ingeniería en Computación \n",
        "##<center>Redes Neuronales\n",
        "##<center>Tarea 2\n",
        "##<center>Estrategias de busqueda de hiperparametros \n",
        "###<center>Catedrática: Dra. Graciela María de Jesús Ramírez Alonso\n",
        "###<center>Estudiante: Ing. Luis Ángel Almazán López</center>\n",
        "<!-- badges: start -->\n",
        "[![@luis3.14159](https://img.shields.io/badge/@luis314159-gitHub-darkred?&logoColor=white)](https://github.com/luis314159/) \n",
        "[![Platzi](https://img.shields.io/badge/Platzi_count-luisangelalmaznlpez-green&logoColor=white)](https://platzi.com/p/luisangelalmaznlpez/)\n",
        "![Email](https://img.shields.io/badge/email-p364977@uach.mx-darkblue?&logoColor=white)\n",
        "<!-- badges: end -->\n",
        "\n",
        "\n"
      ],
      "metadata": {
        "id": "3z6OlkMcnH9O"
      }
    },
    {
      "cell_type": "markdown",
      "source": [
        "#Introducción\n",
        "En este se trabajo se presentera algunos ejemplos de estrategias de hiperparametros, especificamente Grid search y Random search."
      ],
      "metadata": {
        "id": "VaaHA8zz6BDe"
      }
    },
    {
      "cell_type": "markdown",
      "source": [
        "#GridSearch con Validación crusada (CV)\n",
        "Supongamos que queremos evaluar como se comporta un modelo de machine learning con diferentes valores de parametros como por ejemplo los valores siguientes:\n",
        "\n",
        " $γ = (0.001, 0.01, 0.1, 1, 10, 100)$\n",
        "\n",
        " $C= (0.001, 0.01, 0.1, 1, 10, 100)$\n",
        "\n",
        "\n",
        "Para evaluar cuál sería la mejor combinación habría que probarlas todas y evaluar cada modelo, para esto podemos usar validación cruzada.\n",
        "\n",
        "\n",
        "\n",
        "\n",
        "\n"
      ],
      "metadata": {
        "id": "g3egPN4s_u1S"
      }
    },
    {
      "cell_type": "markdown",
      "source": [
        "##Validación Cruzada\n",
        "En este tipo de evaluación se separa el dataset en $n$partes donde se entrenara el modelo $n$veces y en cada iteración se evaluara con una parte diferente del dataset, de esta manera podemos tener un score por cada vez que se entreno y podemos tener un score más significativo al sacar el promedio de los valores obtenidos."
      ],
      "metadata": {
        "id": "YV7mkT3DEQIZ"
      }
    },
    {
      "cell_type": "markdown",
      "source": [
        "##Comparación de los parametros \n",
        "para realizar una comparación de los parametros hariamos lo siguiente:\n",
        "\n",
        "\n",
        "\n",
        "```\n",
        "for gamma in [0.001, 0.01, 0.1, 1, 10, 100]:\n",
        "  for C in [0.001, 0.01, 0.1, 1, 10, 100]:\n",
        "  # Para cada combinación de parametros\n",
        "  # Entrenando un SVC\n",
        "  svm = SVC(gamma=gamma, C=C)\n",
        "  # perform cross-validation\n",
        "  scores = cross_val_score(svm, X_trainval, y_trainval, cv=5)\n",
        "  # compute mean cross-validation accuracy\n",
        "  score = np.mean(scores)\n",
        "  # if we got a better score, store the score and parameters\n",
        "  if score > best_score:\n",
        "  best_score = score\n",
        "  best_parameters = {'C': C, 'gamma': gamma}\n",
        "# rebuild a model on the combined training and validation set\n",
        "svm = SVC(**best_parameters)\n",
        "svm.fit(X_trainval, y_trainval)\n",
        "\n",
        "```\n"
      ],
      "metadata": {
        "id": "bQYEWbDMFGcr"
      }
    },
    {
      "cell_type": "markdown",
      "source": [
        "Afortunadamente esto es mucho más sencillo de hacer con las librerías de scikilearn que nos permiten hacer esto mismo de manera automática\n",
        "\n",
        "\n",
        "\n",
        "```\n",
        "#Estos son los parametros que nos interesa probar\n",
        "aram_grid = {'C': [0.001, 0.01, 0.1, 1, 10, 100],\n",
        "'gamma': [0.001, 0.01, 0.1, 1, 10, 100]}\n",
        "\n",
        "\n",
        "from sklearn.model_selection import GridSearchCV\n",
        "from sklearn.svm import SVC\n",
        "\n",
        "#Se probara un modelo suport vector machine, con los parametros anteriores y \n",
        "#con validación cruzada dividiendo el dataset en 5 partes\n",
        "grid_search = GridSearchCV(SVC(), param_grid, cv=5)\n",
        "\n",
        "X_train, X_test, y_train, y_test = train_test_split(\n",
        " iris.data, iris.target, random_state=0)\n",
        "\n",
        "grid_search.fit(X_train, y_train)\n",
        "\n",
        "```\n",
        "\n"
      ],
      "metadata": {
        "id": "qQlrjpCMFVui"
      }
    },
    {
      "cell_type": "markdown",
      "source": [
        "##Ejemplo con código"
      ],
      "metadata": {
        "id": "VOGOgFAHG0pG"
      }
    },
    {
      "cell_type": "code",
      "source": [
        "#Importando librerias \n",
        "import pandas as pd\n",
        "from sklearn.datasets import load_breast_cancer as l_cancer\n",
        "from sklearn.model_selection import train_test_split\n",
        "from keras.wrappers.scikit_learn import KerasClassifier\n",
        "from sklearn.model_selection import GridSearchCV\n",
        "from sklearn.datasets import make_classification\n",
        "from keras import models\n",
        "from keras import layers"
      ],
      "metadata": {
        "id": "CNtJImX07quB"
      },
      "execution_count": null,
      "outputs": []
    },
    {
      "cell_type": "code",
      "source": [
        "x_df, y_df =l_cancer( return_X_y=True, as_frame=True)\n",
        "x_df.tail()"
      ],
      "metadata": {
        "colab": {
          "base_uri": "https://localhost:8080/",
          "height": 334
        },
        "id": "bV9TFnDE53dj",
        "outputId": "fa3a0db0-9f69-4f70-8d00-ff3d1b7ad35e"
      },
      "execution_count": null,
      "outputs": [
        {
          "output_type": "execute_result",
          "data": {
            "text/plain": [
              "     mean radius  mean texture  mean perimeter  mean area  mean smoothness  \\\n",
              "564        21.56         22.39          142.00     1479.0          0.11100   \n",
              "565        20.13         28.25          131.20     1261.0          0.09780   \n",
              "566        16.60         28.08          108.30      858.1          0.08455   \n",
              "567        20.60         29.33          140.10     1265.0          0.11780   \n",
              "568         7.76         24.54           47.92      181.0          0.05263   \n",
              "\n",
              "     mean compactness  mean concavity  mean concave points  mean symmetry  \\\n",
              "564           0.11590         0.24390              0.13890         0.1726   \n",
              "565           0.10340         0.14400              0.09791         0.1752   \n",
              "566           0.10230         0.09251              0.05302         0.1590   \n",
              "567           0.27700         0.35140              0.15200         0.2397   \n",
              "568           0.04362         0.00000              0.00000         0.1587   \n",
              "\n",
              "     mean fractal dimension  ...  worst radius  worst texture  \\\n",
              "564                 0.05623  ...        25.450          26.40   \n",
              "565                 0.05533  ...        23.690          38.25   \n",
              "566                 0.05648  ...        18.980          34.12   \n",
              "567                 0.07016  ...        25.740          39.42   \n",
              "568                 0.05884  ...         9.456          30.37   \n",
              "\n",
              "     worst perimeter  worst area  worst smoothness  worst compactness  \\\n",
              "564           166.10      2027.0           0.14100            0.21130   \n",
              "565           155.00      1731.0           0.11660            0.19220   \n",
              "566           126.70      1124.0           0.11390            0.30940   \n",
              "567           184.60      1821.0           0.16500            0.86810   \n",
              "568            59.16       268.6           0.08996            0.06444   \n",
              "\n",
              "     worst concavity  worst concave points  worst symmetry  \\\n",
              "564           0.4107                0.2216          0.2060   \n",
              "565           0.3215                0.1628          0.2572   \n",
              "566           0.3403                0.1418          0.2218   \n",
              "567           0.9387                0.2650          0.4087   \n",
              "568           0.0000                0.0000          0.2871   \n",
              "\n",
              "     worst fractal dimension  \n",
              "564                  0.07115  \n",
              "565                  0.06637  \n",
              "566                  0.07820  \n",
              "567                  0.12400  \n",
              "568                  0.07039  \n",
              "\n",
              "[5 rows x 30 columns]"
            ],
            "text/html": [
              "\n",
              "  <div id=\"df-d1c6b74d-ae41-499c-8d58-966e9bac0a0a\">\n",
              "    <div class=\"colab-df-container\">\n",
              "      <div>\n",
              "<style scoped>\n",
              "    .dataframe tbody tr th:only-of-type {\n",
              "        vertical-align: middle;\n",
              "    }\n",
              "\n",
              "    .dataframe tbody tr th {\n",
              "        vertical-align: top;\n",
              "    }\n",
              "\n",
              "    .dataframe thead th {\n",
              "        text-align: right;\n",
              "    }\n",
              "</style>\n",
              "<table border=\"1\" class=\"dataframe\">\n",
              "  <thead>\n",
              "    <tr style=\"text-align: right;\">\n",
              "      <th></th>\n",
              "      <th>mean radius</th>\n",
              "      <th>mean texture</th>\n",
              "      <th>mean perimeter</th>\n",
              "      <th>mean area</th>\n",
              "      <th>mean smoothness</th>\n",
              "      <th>mean compactness</th>\n",
              "      <th>mean concavity</th>\n",
              "      <th>mean concave points</th>\n",
              "      <th>mean symmetry</th>\n",
              "      <th>mean fractal dimension</th>\n",
              "      <th>...</th>\n",
              "      <th>worst radius</th>\n",
              "      <th>worst texture</th>\n",
              "      <th>worst perimeter</th>\n",
              "      <th>worst area</th>\n",
              "      <th>worst smoothness</th>\n",
              "      <th>worst compactness</th>\n",
              "      <th>worst concavity</th>\n",
              "      <th>worst concave points</th>\n",
              "      <th>worst symmetry</th>\n",
              "      <th>worst fractal dimension</th>\n",
              "    </tr>\n",
              "  </thead>\n",
              "  <tbody>\n",
              "    <tr>\n",
              "      <th>564</th>\n",
              "      <td>21.56</td>\n",
              "      <td>22.39</td>\n",
              "      <td>142.00</td>\n",
              "      <td>1479.0</td>\n",
              "      <td>0.11100</td>\n",
              "      <td>0.11590</td>\n",
              "      <td>0.24390</td>\n",
              "      <td>0.13890</td>\n",
              "      <td>0.1726</td>\n",
              "      <td>0.05623</td>\n",
              "      <td>...</td>\n",
              "      <td>25.450</td>\n",
              "      <td>26.40</td>\n",
              "      <td>166.10</td>\n",
              "      <td>2027.0</td>\n",
              "      <td>0.14100</td>\n",
              "      <td>0.21130</td>\n",
              "      <td>0.4107</td>\n",
              "      <td>0.2216</td>\n",
              "      <td>0.2060</td>\n",
              "      <td>0.07115</td>\n",
              "    </tr>\n",
              "    <tr>\n",
              "      <th>565</th>\n",
              "      <td>20.13</td>\n",
              "      <td>28.25</td>\n",
              "      <td>131.20</td>\n",
              "      <td>1261.0</td>\n",
              "      <td>0.09780</td>\n",
              "      <td>0.10340</td>\n",
              "      <td>0.14400</td>\n",
              "      <td>0.09791</td>\n",
              "      <td>0.1752</td>\n",
              "      <td>0.05533</td>\n",
              "      <td>...</td>\n",
              "      <td>23.690</td>\n",
              "      <td>38.25</td>\n",
              "      <td>155.00</td>\n",
              "      <td>1731.0</td>\n",
              "      <td>0.11660</td>\n",
              "      <td>0.19220</td>\n",
              "      <td>0.3215</td>\n",
              "      <td>0.1628</td>\n",
              "      <td>0.2572</td>\n",
              "      <td>0.06637</td>\n",
              "    </tr>\n",
              "    <tr>\n",
              "      <th>566</th>\n",
              "      <td>16.60</td>\n",
              "      <td>28.08</td>\n",
              "      <td>108.30</td>\n",
              "      <td>858.1</td>\n",
              "      <td>0.08455</td>\n",
              "      <td>0.10230</td>\n",
              "      <td>0.09251</td>\n",
              "      <td>0.05302</td>\n",
              "      <td>0.1590</td>\n",
              "      <td>0.05648</td>\n",
              "      <td>...</td>\n",
              "      <td>18.980</td>\n",
              "      <td>34.12</td>\n",
              "      <td>126.70</td>\n",
              "      <td>1124.0</td>\n",
              "      <td>0.11390</td>\n",
              "      <td>0.30940</td>\n",
              "      <td>0.3403</td>\n",
              "      <td>0.1418</td>\n",
              "      <td>0.2218</td>\n",
              "      <td>0.07820</td>\n",
              "    </tr>\n",
              "    <tr>\n",
              "      <th>567</th>\n",
              "      <td>20.60</td>\n",
              "      <td>29.33</td>\n",
              "      <td>140.10</td>\n",
              "      <td>1265.0</td>\n",
              "      <td>0.11780</td>\n",
              "      <td>0.27700</td>\n",
              "      <td>0.35140</td>\n",
              "      <td>0.15200</td>\n",
              "      <td>0.2397</td>\n",
              "      <td>0.07016</td>\n",
              "      <td>...</td>\n",
              "      <td>25.740</td>\n",
              "      <td>39.42</td>\n",
              "      <td>184.60</td>\n",
              "      <td>1821.0</td>\n",
              "      <td>0.16500</td>\n",
              "      <td>0.86810</td>\n",
              "      <td>0.9387</td>\n",
              "      <td>0.2650</td>\n",
              "      <td>0.4087</td>\n",
              "      <td>0.12400</td>\n",
              "    </tr>\n",
              "    <tr>\n",
              "      <th>568</th>\n",
              "      <td>7.76</td>\n",
              "      <td>24.54</td>\n",
              "      <td>47.92</td>\n",
              "      <td>181.0</td>\n",
              "      <td>0.05263</td>\n",
              "      <td>0.04362</td>\n",
              "      <td>0.00000</td>\n",
              "      <td>0.00000</td>\n",
              "      <td>0.1587</td>\n",
              "      <td>0.05884</td>\n",
              "      <td>...</td>\n",
              "      <td>9.456</td>\n",
              "      <td>30.37</td>\n",
              "      <td>59.16</td>\n",
              "      <td>268.6</td>\n",
              "      <td>0.08996</td>\n",
              "      <td>0.06444</td>\n",
              "      <td>0.0000</td>\n",
              "      <td>0.0000</td>\n",
              "      <td>0.2871</td>\n",
              "      <td>0.07039</td>\n",
              "    </tr>\n",
              "  </tbody>\n",
              "</table>\n",
              "<p>5 rows × 30 columns</p>\n",
              "</div>\n",
              "      <button class=\"colab-df-convert\" onclick=\"convertToInteractive('df-d1c6b74d-ae41-499c-8d58-966e9bac0a0a')\"\n",
              "              title=\"Convert this dataframe to an interactive table.\"\n",
              "              style=\"display:none;\">\n",
              "        \n",
              "  <svg xmlns=\"http://www.w3.org/2000/svg\" height=\"24px\"viewBox=\"0 0 24 24\"\n",
              "       width=\"24px\">\n",
              "    <path d=\"M0 0h24v24H0V0z\" fill=\"none\"/>\n",
              "    <path d=\"M18.56 5.44l.94 2.06.94-2.06 2.06-.94-2.06-.94-.94-2.06-.94 2.06-2.06.94zm-11 1L8.5 8.5l.94-2.06 2.06-.94-2.06-.94L8.5 2.5l-.94 2.06-2.06.94zm10 10l.94 2.06.94-2.06 2.06-.94-2.06-.94-.94-2.06-.94 2.06-2.06.94z\"/><path d=\"M17.41 7.96l-1.37-1.37c-.4-.4-.92-.59-1.43-.59-.52 0-1.04.2-1.43.59L10.3 9.45l-7.72 7.72c-.78.78-.78 2.05 0 2.83L4 21.41c.39.39.9.59 1.41.59.51 0 1.02-.2 1.41-.59l7.78-7.78 2.81-2.81c.8-.78.8-2.07 0-2.86zM5.41 20L4 18.59l7.72-7.72 1.47 1.35L5.41 20z\"/>\n",
              "  </svg>\n",
              "      </button>\n",
              "      \n",
              "  <style>\n",
              "    .colab-df-container {\n",
              "      display:flex;\n",
              "      flex-wrap:wrap;\n",
              "      gap: 12px;\n",
              "    }\n",
              "\n",
              "    .colab-df-convert {\n",
              "      background-color: #E8F0FE;\n",
              "      border: none;\n",
              "      border-radius: 50%;\n",
              "      cursor: pointer;\n",
              "      display: none;\n",
              "      fill: #1967D2;\n",
              "      height: 32px;\n",
              "      padding: 0 0 0 0;\n",
              "      width: 32px;\n",
              "    }\n",
              "\n",
              "    .colab-df-convert:hover {\n",
              "      background-color: #E2EBFA;\n",
              "      box-shadow: 0px 1px 2px rgba(60, 64, 67, 0.3), 0px 1px 3px 1px rgba(60, 64, 67, 0.15);\n",
              "      fill: #174EA6;\n",
              "    }\n",
              "\n",
              "    [theme=dark] .colab-df-convert {\n",
              "      background-color: #3B4455;\n",
              "      fill: #D2E3FC;\n",
              "    }\n",
              "\n",
              "    [theme=dark] .colab-df-convert:hover {\n",
              "      background-color: #434B5C;\n",
              "      box-shadow: 0px 1px 3px 1px rgba(0, 0, 0, 0.15);\n",
              "      filter: drop-shadow(0px 1px 2px rgba(0, 0, 0, 0.3));\n",
              "      fill: #FFFFFF;\n",
              "    }\n",
              "  </style>\n",
              "\n",
              "      <script>\n",
              "        const buttonEl =\n",
              "          document.querySelector('#df-d1c6b74d-ae41-499c-8d58-966e9bac0a0a button.colab-df-convert');\n",
              "        buttonEl.style.display =\n",
              "          google.colab.kernel.accessAllowed ? 'block' : 'none';\n",
              "\n",
              "        async function convertToInteractive(key) {\n",
              "          const element = document.querySelector('#df-d1c6b74d-ae41-499c-8d58-966e9bac0a0a');\n",
              "          const dataTable =\n",
              "            await google.colab.kernel.invokeFunction('convertToInteractive',\n",
              "                                                     [key], {});\n",
              "          if (!dataTable) return;\n",
              "\n",
              "          const docLinkHtml = 'Like what you see? Visit the ' +\n",
              "            '<a target=\"_blank\" href=https://colab.research.google.com/notebooks/data_table.ipynb>data table notebook</a>'\n",
              "            + ' to learn more about interactive tables.';\n",
              "          element.innerHTML = '';\n",
              "          dataTable['output_type'] = 'display_data';\n",
              "          await google.colab.output.renderOutput(dataTable, element);\n",
              "          const docLink = document.createElement('div');\n",
              "          docLink.innerHTML = docLinkHtml;\n",
              "          element.appendChild(docLink);\n",
              "        }\n",
              "      </script>\n",
              "    </div>\n",
              "  </div>\n",
              "  "
            ]
          },
          "metadata": {},
          "execution_count": 4
        }
      ]
    },
    {
      "cell_type": "code",
      "source": [
        "y_df.tail()"
      ],
      "metadata": {
        "colab": {
          "base_uri": "https://localhost:8080/"
        },
        "id": "jalFXLE08LNJ",
        "outputId": "4ef1f3b8-8aa9-4287-8a5a-cb93171ec0f9"
      },
      "execution_count": null,
      "outputs": [
        {
          "output_type": "execute_result",
          "data": {
            "text/plain": [
              "564    0\n",
              "565    0\n",
              "566    0\n",
              "567    0\n",
              "568    1\n",
              "Name: target, dtype: int64"
            ]
          },
          "metadata": {},
          "execution_count": 6
        }
      ]
    },
    {
      "cell_type": "code",
      "source": [
        "#Numero de muestras de train y test\n",
        "train_samples = 426\n",
        "test_samples = 143\n",
        "\n",
        "X_train, X_test, y_train, y_test = train_test_split(x_df, y_df, train_size = train_samples, test_size = test_samples, random_state=1)\n",
        "\n",
        "print(f\"Tamaño de la matriz de X de entrenamiento {X_train.shape}\")\n",
        "print(f\"Tamaño de la matriz de X de prueba {X_test.shape}\")"
      ],
      "metadata": {
        "colab": {
          "base_uri": "https://localhost:8080/"
        },
        "id": "NNiLHKoi8N2K",
        "outputId": "cf078ae5-6555-4d0b-fd15-bf2365dfcce1"
      },
      "execution_count": null,
      "outputs": [
        {
          "output_type": "stream",
          "name": "stdout",
          "text": [
            "Tamaño de la matriz de X de entrenamiento (426, 30)\n",
            "Tamaño de la matriz de X de prueba (143, 30)\n"
          ]
        }
      ]
    },
    {
      "cell_type": "code",
      "source": [
        "#Función para crear una red neuronal multicapa (Dos capas con función de activación relu y una con función de activación sigmoidal)\n",
        "# Number of features = 30\n",
        "#En este caso seran 30 features de entrada al modelo\n",
        "number_of_features = 30\n",
        "def create_network(optimizer=\"adam\"):\n",
        "\n",
        " # Start neural network\n",
        " network = models.Sequential()\n",
        " # Add fully connected layer with a ReLU activation function\n",
        " network.add(layers.Dense(units=16,\n",
        " activation=\"relu\",\n",
        " input_shape=(number_of_features,)))\n",
        "\n",
        " # Add fully connected layer with a ReLU activation function\n",
        " network.add(layers.Dense(units=16, activation=\"relu\"))\n",
        "\n",
        " # Add fully connected layer with a sigmoid activation function\n",
        " network.add(layers.Dense(units=1, activation=\"sigmoid\"))\n",
        "\n",
        " # Compile neural network\n",
        " network.compile(loss=\"binary_crossentropy\", # Cross-entropy\n",
        " optimizer=optimizer, # Optimizer\n",
        " metrics=[\"accuracy\"]) # Accuracy performance metric\n",
        " # Return compiled network\n",
        " return network"
      ],
      "metadata": {
        "id": "1dD6GsUnVjo5"
      },
      "execution_count": null,
      "outputs": []
    },
    {
      "cell_type": "code",
      "source": [
        "neural_network = KerasClassifier(build_fn=create_network, verbose=0)\n",
        "# Create hyperparameter space\n",
        "epochs = [5, 10,20,30,40]\n",
        "batches = [5, 10, 100,426]\n",
        "optimizers = [\"rmsprop\", \"adam\"]\n",
        "\n",
        "# Create hyperparameter options\n",
        "hyperparameters = dict(optimizer=optimizers, epochs=epochs, batch_size=batches)\n",
        "# Create grid search\n",
        "grid = GridSearchCV(estimator=neural_network, param_grid=hyperparameters)\n",
        "# Fit grid search\n",
        "grid_result = grid.fit(X_test, y_test)"
      ],
      "metadata": {
        "colab": {
          "base_uri": "https://localhost:8080/"
        },
        "id": "dbkxMaszHuAF",
        "outputId": "147219f4-ed43-4013-8b99-2f69a9027dc9"
      },
      "execution_count": null,
      "outputs": [
        {
          "output_type": "stream",
          "name": "stderr",
          "text": [
            "/usr/local/lib/python3.7/dist-packages/ipykernel_launcher.py:1: DeprecationWarning: KerasClassifier is deprecated, use Sci-Keras (https://github.com/adriangb/scikeras) instead. See https://www.adriangb.com/scikeras/stable/migration.html for help migrating.\n",
            "  \"\"\"Entry point for launching an IPython kernel.\n",
            "WARNING:tensorflow:5 out of the last 16 calls to <function Model.make_test_function.<locals>.test_function at 0x7f792deea680> triggered tf.function retracing. Tracing is expensive and the excessive number of tracings could be due to (1) creating @tf.function repeatedly in a loop, (2) passing tensors with different shapes, (3) passing Python objects instead of tensors. For (1), please define your @tf.function outside of the loop. For (2), @tf.function has experimental_relax_shapes=True option that relaxes argument shapes that can avoid unnecessary retracing. For (3), please refer to https://www.tensorflow.org/guide/function#controlling_retracing and https://www.tensorflow.org/api_docs/python/tf/function for  more details.\n",
            "WARNING:tensorflow:5 out of the last 13 calls to <function Model.make_test_function.<locals>.test_function at 0x7f799eec1cb0> triggered tf.function retracing. Tracing is expensive and the excessive number of tracings could be due to (1) creating @tf.function repeatedly in a loop, (2) passing tensors with different shapes, (3) passing Python objects instead of tensors. For (1), please define your @tf.function outside of the loop. For (2), @tf.function has experimental_relax_shapes=True option that relaxes argument shapes that can avoid unnecessary retracing. For (3), please refer to https://www.tensorflow.org/guide/function#controlling_retracing and https://www.tensorflow.org/api_docs/python/tf/function for  more details.\n"
          ]
        }
      ]
    },
    {
      "cell_type": "markdown",
      "source": [
        "print(svc_grid.best_params_)"
      ],
      "metadata": {
        "id": "N8SOwzSnWuf5"
      }
    },
    {
      "cell_type": "code",
      "source": [
        "print(grid.best_params_)\n",
        "print(grid.best_score_)"
      ],
      "metadata": {
        "colab": {
          "base_uri": "https://localhost:8080/"
        },
        "id": "qz4jMgcRWy0s",
        "outputId": "96cccaf0-5998-4901-890b-70235d20ce4f"
      },
      "execution_count": null,
      "outputs": [
        {
          "output_type": "stream",
          "name": "stdout",
          "text": [
            "{'batch_size': 5, 'epochs': 30, 'optimizer': 'rmsprop'}\n",
            "0.9305418729782104\n"
          ]
        }
      ]
    },
    {
      "cell_type": "markdown",
      "source": [
        "#RandomizedSearchCV\n",
        "Permite hacer la busqueda de hiperparametros de forma aletoria, a diferencia de GridSearch que prueba todos los posibles valores de los paramatros en el conjunto a probar.\n"
      ],
      "metadata": {
        "id": "o2LGfJndW3zK"
      }
    },
    {
      "cell_type": "markdown",
      "source": [
        "##Ejemplo con código"
      ],
      "metadata": {
        "id": "XHYU5YOmfjL8"
      }
    },
    {
      "cell_type": "code",
      "source": [
        "from sklearn.model_selection import RandomizedSearchCV\n",
        "import scipy \n",
        "import sys"
      ],
      "metadata": {
        "id": "X_3hQ_AebdPo"
      },
      "execution_count": null,
      "outputs": []
    },
    {
      "cell_type": "code",
      "source": [
        "epochs = [i for i in range(50) if i%5==0]\n",
        "batches = [i for i in range(6,426) if i%3==0]\n",
        "optimizers = [\"rmsprop\", \"adam\"]"
      ],
      "metadata": {
        "id": "65ectHhBeRQm"
      },
      "execution_count": null,
      "outputs": []
    },
    {
      "cell_type": "code",
      "source": [
        "# Create hyperparameter space\n",
        "\n",
        "\n",
        "# Create hyperparameter options\n",
        "param_dist = dict(optimizer=optimizers, epochs=epochs, batch_size=batches)\n",
        "# Create grid search\n",
        "randomized = RandomizedSearchCV(estimator=neural_network, param_distributions=param_dist, cv=5, refit=True,n_iter=100)\n",
        "# Fit grid search\n",
        "randomized_result = randomized.fit(X_test, y_test)"
      ],
      "metadata": {
        "id": "Mt_bWO-gca3g"
      },
      "execution_count": null,
      "outputs": []
    },
    {
      "cell_type": "code",
      "source": [
        "print(grid.best_params_)\n",
        "print(grid.best_score_)"
      ],
      "metadata": {
        "colab": {
          "base_uri": "https://localhost:8080/"
        },
        "id": "oc4wZg7tfNWb",
        "outputId": "51ca3eda-8b91-4341-864d-433b4992a24e"
      },
      "execution_count": null,
      "outputs": [
        {
          "output_type": "stream",
          "name": "stdout",
          "text": [
            "{'batch_size': 5, 'epochs': 30, 'optimizer': 'rmsprop'}\n",
            "0.9305418729782104\n"
          ]
        }
      ]
    }
  ]
}